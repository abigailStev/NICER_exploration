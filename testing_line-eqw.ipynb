{
 "cells": [
  {
   "cell_type": "code",
   "execution_count": 1,
   "id": "tamil-roots",
   "metadata": {},
   "outputs": [],
   "source": [
    "import numpy as np\n",
    "from astropy.table import Table, Column, unique\n",
    "from astropy.time import Time\n",
    "import os\n",
    "from astropy.io import fits\n",
    "import matplotlib.pyplot as plt\n",
    "import matplotlib.font_manager as font_manager\n",
    "from scipy.stats import binned_statistic\n",
    "from xcor_tools_nicer import find_nearest as find_nearest\n",
    "from xcor_tools_nicer import clock_to_mjd as clock_to_mjd\n",
    "font_prop = font_manager.FontProperties(size=20)\n",
    "%matplotlib inline\n",
    "from astropy.modeling import fitting, powerlaws\n",
    "from fast_histogram import histogram1d"
   ]
  },
  {
   "cell_type": "code",
   "execution_count": 2,
   "id": "demonstrated-printer",
   "metadata": {},
   "outputs": [],
   "source": [
    "homedir = os.path.expanduser(\"~\")\n",
    "exe_dir = os.getcwd()\n",
    "obj_name = \"GX_339-4\"\n",
    "obj_prefix = \"gx339-2021\"\n",
    "data_dir = homedir + \"/Reduced_data/%s\" % obj_name\n",
    "# evt_list = \"%s/in/%s_evtlists.txt\" % (exe_dir, obj_prefix)\n",
    "# data_files = [line.strip() for line in open(evt_list)]\n",
    "evt_list = data_dir+\"/gx3394-1.evt\""
   ]
  },
  {
   "cell_type": "code",
   "execution_count": 3,
   "id": "present-bullet",
   "metadata": {},
   "outputs": [
    {
     "name": "stdout",
     "output_type": "stream",
     "text": [
      "156\n"
     ]
    }
   ],
   "source": [
    "rsp_matrix_file = \"%s/in/nicer_v1.02rbn-5.rsp\" % exe_dir\n",
    "rsp_hdu = fits.open(rsp_matrix_file)\n",
    "detchans = np.int(rsp_hdu['EBOUNDS'].header['DETCHANS'])\n",
    "print(detchans)"
   ]
  },
  {
   "cell_type": "code",
   "execution_count": 4,
   "id": "applied-preserve",
   "metadata": {},
   "outputs": [
    {
     "name": "stdout",
     "output_type": "stream",
     "text": [
      "        TIME         RAWX RAWY PHA  ... MPU_UNDER_COUNT PI_FAST  PI   PI_RATIO \n",
      "         s           pix  pix  chan ...                   chan  chan           \n",
      "-------------------- ---- ---- ---- ... --------------- ------- ---- ----------\n",
      " 225258936.001859814    2    0 1043 ...              11     231  236  1.0216451\n",
      " 225258936.005044490    2    2 2515 ...              13     801  815  1.0174781\n",
      " 225258936.007756114    7    5 2609 ...              15     879  860 0.97838455\n",
      " 225258936.008659661    3    2 3347 ...              25    1271 1234  0.9708891\n",
      " 225258936.011701345    6    4  698 ...              16     144  136  0.9444444\n",
      " 225258936.022694260    7    3  595 ...              19     103  102 0.99029124\n",
      " 225258936.024545580    4    0  606 ...              15      94   92  0.9787234\n",
      " 225258936.028926939    7    0  671 ...              13     128  120     0.9375\n",
      " 225258936.035250396    7    0  940 ...              13     208  217  1.0432693\n",
      " 225258936.039861798    6    0  701 ...              16     128  129  1.0078125\n",
      "                 ...  ...  ...  ... ...             ...     ...  ...        ...\n",
      " 226433640.986609012    6    1  834 ...              57     180  183  1.0166667\n",
      " 226433640.986934543    0    0  694 ...              48     151  140 0.92715234\n",
      " 226433640.987924099    3    4  675 ...              43     123  114  0.9268293\n",
      " 226433640.989240170    2    6 1294 ...              34     353  345  0.9773371\n",
      " 226433640.989436477    5    1  541 ...              41      84   90  1.0714285\n",
      " 226433640.994329751    0    3  546 ...              43      72   78  1.0833334\n",
      " 226433640.996288091    5    0  901 ...              85     169  175  1.0355029\n",
      " 226433640.997072279    2    0 1023 ...              97     227  224 0.98678416\n",
      " 226433640.998627245    1    0  866 ...             108     191  190  0.9947644\n",
      " 226433640.999806583    2    2  925 ...              33     207  206  0.9951691\n",
      "Length = 19188649 rows\n"
     ]
    }
   ],
   "source": [
    "evts = Table.read(evt_list, format='fits', hdu=1)\n",
    "print(evts)"
   ]
  },
  {
   "cell_type": "code",
   "execution_count": 17,
   "id": "single-leisure",
   "metadata": {},
   "outputs": [
    {
     "name": "stdout",
     "output_type": "stream",
     "text": [
      "6\n",
      "6\n",
      "[500 510 520 530 540 550]\n"
     ]
    }
   ],
   "source": [
    "a = (evts['PI'] >= 500) & (evts['PI'] <= 550) \n",
    "b = (evts['PI'] >= 750) & (evts['PI'] <= 800)\n",
    "c = (evts['PI'] >= 620) & (evts['PI'] <= 670)\n",
    "# d = (evts['PI'] >= 500) & (evts['PI'] <= 800)\n",
    "\n",
    "a = histogram1d(evts['PI'][a], range=[500,560], bins=6)\n",
    "b = histogram1d(evts['PI'][b], range=[750,810], bins=6)\n",
    "c = histogram1d(evts['PI'][c], range=[620,680], bins=6)\n",
    "bins_a = np.arange(500,560,10)\n",
    "bins_b = np.arange(750,810,10)\n",
    "bins_c = np.arange(620,680,10)\n",
    "\n",
    "print(len(bins_a))\n",
    "print(len(a))\n",
    "print(bins_a)\n",
    "\n",
    "cont = np.append(a[0:-1],b[0:-1])\n",
    "x_cont = np.append(bins_a[0:-1], bins_b[0:-1])\n",
    "fe = c[0:-1]\n",
    "x_fe = bins_c[0:-1]"
   ]
  },
  {
   "cell_type": "code",
   "execution_count": 18,
   "id": "essential-model",
   "metadata": {},
   "outputs": [
    {
     "data": {
      "text/plain": [
       "<matplotlib.collections.PathCollection at 0x7fb0f2973700>"
      ]
     },
     "execution_count": 18,
     "metadata": {},
     "output_type": "execute_result"
    },
    {
     "data": {
      "image/png": "[encoded data removed]",
      "text/plain": [
       "<Figure size 432x288 with 1 Axes>"
      ]
     },
     "metadata": {
      "needs_background": "light"
     },
     "output_type": "display_data"
    }
   ],
   "source": [
    "plt.scatter(x_cont, cont)"
   ]
  },
  {
   "cell_type": "code",
   "execution_count": null,
   "id": "scheduled-johnson",
   "metadata": {},
   "outputs": [],
   "source": []
  },
  {
   "cell_type": "code",
   "execution_count": 19,
   "id": "widespread-paste",
   "metadata": {},
   "outputs": [],
   "source": [
    "# myplfit=plfit.plfit(cont,usefortran=False)"
   ]
  },
  {
   "cell_type": "code",
   "execution_count": 20,
   "id": "level-brunei",
   "metadata": {},
   "outputs": [],
   "source": [
    "for i in range(0,2):\n",
    "    pl_init = powerlaws.PowerLaw1D(amplitude=50, x_0=1000., alpha=4.)\n",
    "    fit_pl = fitting.LevMarLSQFitter()\n",
    "    pl = fit_pl(pl_init, x_cont, cont)"
   ]
  },
  {
   "cell_type": "code",
   "execution_count": 21,
   "id": "incorrect-honolulu",
   "metadata": {},
   "outputs": [],
   "source": [
    "# print(fit_pl.fit_info['message'])"
   ]
  },
  {
   "cell_type": "code",
   "execution_count": 22,
   "id": "charged-athens",
   "metadata": {},
   "outputs": [
    {
     "name": "stdout",
     "output_type": "stream",
     "text": [
      "Model: PowerLaw1D\n",
      "Inputs: ('x',)\n",
      "Outputs: ('y',)\n",
      "Model set size: 1\n",
      "Parameters:\n",
      "        amplitude             x_0               alpha      \n",
      "    ------------------ ------------------ -----------------\n",
      "    430.34888546572813 1637.3470467635188 4.069968820705873\n"
     ]
    }
   ],
   "source": [
    "print(pl)"
   ]
  },
  {
   "cell_type": "code",
   "execution_count": 23,
   "id": "central-paintball",
   "metadata": {},
   "outputs": [
    {
     "data": {
      "text/plain": [
       "[<matplotlib.lines.Line2D at 0x7fb0f2a18340>]"
      ]
     },
     "execution_count": 23,
     "metadata": {},
     "output_type": "execute_result"
    },
    {
     "data": {
      "image/png": "[encoded data removed]",
      "text/plain": [
       "<Figure size 432x288 with 1 Axes>"
      ]
     },
     "metadata": {
      "needs_background": "light"
     },
     "output_type": "display_data"
    }
   ],
   "source": [
    "plt.scatter(x_cont, cont)\n",
    "plt.plot(x_cont, pl(x_cont))\n",
    "plt.plot(x_fe, pl(x_fe))\n",
    "plt.plot(x_fe, fe)"
   ]
  },
  {
   "cell_type": "code",
   "execution_count": 24,
   "id": "major-league",
   "metadata": {},
   "outputs": [
    {
     "name": "stdout",
     "output_type": "stream",
     "text": [
      "1.1133264195883732\n",
      "1.1387915076550013\n",
      "1.1756726846781262\n",
      "1.1556277284181484\n",
      "1.1412894934196651\n"
     ]
    }
   ],
   "source": [
    "for i in range(len(x_fe)):\n",
    "    print(fe[i]/pl(x_fe[i]))"
   ]
  },
  {
   "cell_type": "code",
   "execution_count": 25,
   "id": "indie-belle",
   "metadata": {},
   "outputs": [
    {
     "name": "stdout",
     "output_type": "stream",
     "text": [
      "1.144941566751863\n"
     ]
    }
   ],
   "source": [
    "ratio = np.average(fe/pl(x_fe))\n",
    "print(ratio)"
   ]
  },
  {
   "cell_type": "code",
   "execution_count": null,
   "id": "swedish-program",
   "metadata": {},
   "outputs": [],
   "source": []
  }
 ],
 "metadata": {
  "kernelspec": {
   "display_name": "Python 3",
   "language": "python",
   "name": "python3"
  },
  "language_info": {
   "codemirror_mode": {
    "name": "ipython",
    "version": 3
   },
   "file_extension": ".py",
   "mimetype": "text/x-python",
   "name": "python",
   "nbconvert_exporter": "python",
   "pygments_lexer": "ipython3",
   "version": "3.8.5"
  }
 },
 "nbformat": 4,
 "nbformat_minor": 5
}
